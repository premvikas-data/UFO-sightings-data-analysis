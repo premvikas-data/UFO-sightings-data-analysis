{
 "cells": [
  {
   "cell_type": "markdown",
   "id": "c7158b70-6655-4202-b749-7da5fa2e2d6a",
   "metadata": {},
   "source": [
    "#### Question 1 - Load the car dataset into a Pandas DataFrame. Also, load all the DataFrame columns into specific variables as lists. Name your variables accordingly. - 5% marks"
   ]
  },
  {
   "cell_type": "code",
   "execution_count": 7,
   "id": "2140fb40-a7bf-43ff-8613-0f1fe9e81f3d",
   "metadata": {},
   "outputs": [],
   "source": [
    "import pandas as pd\n",
    "dataset=pd.read_csv(\"E:\\Cars_group1.csv\")\n",
    "\n",
    "name = dataset['name'].tolist()\n",
    "year = dataset['year'].tolist()\n",
    "selling_price = dataset['selling_price'].tolist()\n",
    "km_driven=dataset['km_driven'].tolist()\n",
    "fuel=dataset['fuel'].tolist()\n",
    "seller_type=dataset['seller_type'].tolist()\n",
    "transmission=dataset['transmission'].tolist()\n",
    "owner=dataset['owner'].tolist()\n",
    "mileage=dataset['mileage(ppl)'].tolist()\n",
    "engine=dataset['engine'].tolist()\n",
    "max_power=dataset['max_power(bhp)'].tolist()\n",
    "torque=dataset['torque'].tolist()\n",
    "seats=dataset['seats'].tolist()\n",
    "Make=dataset['Make'].tolist()\n",
    "Model=dataset['Model'].tolist()\n",
    "\n",
    "\n",
    "\n",
    "\n"
   ]
  },
  {
   "cell_type": "markdown",
   "id": "bffbf33e-8f5c-433e-934a-20eb3410e4b4",
   "metadata": {},
   "source": [
    "#### Question 2 - Write a program that counts and displays the number of cars with manual transmissions. - 10% marks"
   ]
  },
  {
   "cell_type": "code",
   "execution_count": 9,
   "id": "0379239a-8b08-4043-8937-299977750b59",
   "metadata": {},
   "outputs": [
    {
     "name": "stdout",
     "output_type": "stream",
     "text": [
      "The number of cars with manual transmission is: 871\n",
      "The number of cars with Automatic transmission is: 129\n"
     ]
    }
   ],
   "source": [
    "manual_count = (dataset['transmission'] == 'Manual').sum()\n",
    "automatic_count=(dataset['transmission'] == 'Automatic').sum()\n",
    "print(f\"The number of cars with manual transmission is: {manual_count}\")\n",
    "print(f\"The number of cars with Automatic transmission is: {automatic_count}\")\n"
   ]
  },
  {
   "cell_type": "markdown",
   "id": "c75cfdb7-6e1f-4f05-ac62-b3aaa5a2692f",
   "metadata": {},
   "source": [
    "#### Expected output:\n",
    "\n",
    "The number of manual cars was: 871 and automatic was:129"
   ]
  },
  {
   "cell_type": "markdown",
   "id": "0e365b53-b01a-488f-94f9-3d99f7afa86a",
   "metadata": {},
   "source": [
    "#### Question 3 - Write a function that takes the car make (e.g., \"Toyota\") and returns the percentage of fuel types of that particular Make. - 10% marks"
   ]
  },
  {
   "cell_type": "code",
   "execution_count": 20,
   "id": "74058a47-7e2b-4cd6-8c22-141de950c3a0",
   "metadata": {},
   "outputs": [
    {
     "name": "stdout",
     "output_type": "stream",
     "text": [
      "Fuel type percentages for Toyota:\n",
      "Series([], Name: fuel, dtype: object)\n"
     ]
    }
   ],
   "source": [
    "def fuelpercentage(car):\n",
    "    new_data = dataset[dataset['car'] == make]\n",
    "    fuel_percentage = new_data.groupby('Fuel').size() / new_data.shape[0] * 100\n",
    "    return fuel_percentage\n",
    "\n",
    "make = ''\n",
    "result = fuel_percentage(make)\n",
    "print(f\"Fuel type percentages for {make}:\\n{result}\")\n",
    "    "
   ]
  },
  {
   "cell_type": "markdown",
   "id": "4887c703-a29e-4b08-a0da-5e362d648a77",
   "metadata": {},
   "source": [
    "#### Expected outputs:\n",
    "\n",
    "Please enter the number of the car make:  Chevrolet\n",
    "The number of cars produced by Chevrolet in this dataset was 22"
   ]
  },
  {
   "cell_type": "markdown",
   "id": "17a401d7-a398-4b2e-9a30-4507194cfdfc",
   "metadata": {},
   "source": [
    "#### Question 4 - Create a program to display the max, min and mean price per Owner. - 10 % marks"
   ]
  },
  {
   "cell_type": "code",
   "execution_count": 30,
   "id": "e0db005f-7ee6-4bed-aa6c-102b50cca569",
   "metadata": {},
   "outputs": [
    {
     "ename": "KeyError",
     "evalue": "'Owner'",
     "output_type": "error",
     "traceback": [
      "\u001b[1;31m---------------------------------------------------------------------------\u001b[0m",
      "\u001b[1;31mKeyError\u001b[0m                                  Traceback (most recent call last)",
      "Cell \u001b[1;32mIn[30], line 10\u001b[0m\n\u001b[0;32m      7\u001b[0m         output \u001b[38;5;241m+\u001b[39m\u001b[38;5;241m=\u001b[39m \u001b[38;5;124mf\u001b[39m\u001b[38;5;124m\"\u001b[39m\u001b[38;5;124mThe prices for \u001b[39m\u001b[38;5;132;01m{\u001b[39;00mowner\u001b[38;5;132;01m}\u001b[39;00m\u001b[38;5;124m Owner are the following, Max: \u001b[39m\u001b[38;5;132;01m{\u001b[39;00mmax_price\u001b[38;5;132;01m}\u001b[39;00m\u001b[38;5;124m, Min: \u001b[39m\u001b[38;5;132;01m{\u001b[39;00mmin_price\u001b[38;5;132;01m}\u001b[39;00m\u001b[38;5;124m, Avg: \u001b[39m\u001b[38;5;132;01m{\u001b[39;00mavg_price\u001b[38;5;132;01m}\u001b[39;00m\u001b[38;5;130;01m\\n\u001b[39;00m\u001b[38;5;124m\"\u001b[39m\n\u001b[0;32m      8\u001b[0m     \u001b[38;5;28;01mreturn\u001b[39;00m output\n\u001b[1;32m---> 10\u001b[0m result \u001b[38;5;241m=\u001b[39m \u001b[43mdisplay_owner\u001b[49m\u001b[43m(\u001b[49m\u001b[43mowner\u001b[49m\u001b[43m,\u001b[49m\u001b[43m \u001b[49m\u001b[43mselling_price\u001b[49m\u001b[43m)\u001b[49m\n\u001b[0;32m     11\u001b[0m \u001b[38;5;28mprint\u001b[39m(result)\n",
      "Cell \u001b[1;32mIn[30], line 2\u001b[0m, in \u001b[0;36mdisplay_owner\u001b[1;34m(owners, selling_prices)\u001b[0m\n\u001b[0;32m      1\u001b[0m \u001b[38;5;28;01mdef\u001b[39;00m \u001b[38;5;21mdisplay_owner\u001b[39m(owners, selling_prices):\n\u001b[1;32m----> 2\u001b[0m     stats_per_owner \u001b[38;5;241m=\u001b[39m \u001b[43mdataset\u001b[49m\u001b[38;5;241;43m.\u001b[39;49m\u001b[43mgroupby\u001b[49m\u001b[43m(\u001b[49m\u001b[38;5;124;43m'\u001b[39;49m\u001b[38;5;124;43mOwner\u001b[39;49m\u001b[38;5;124;43m'\u001b[39;49m\u001b[43m)\u001b[49m[\u001b[38;5;124m'\u001b[39m\u001b[38;5;124mSelling_Price\u001b[39m\u001b[38;5;124m'\u001b[39m]\u001b[38;5;241m.\u001b[39magg([\u001b[38;5;124m'\u001b[39m\u001b[38;5;124mmax\u001b[39m\u001b[38;5;124m'\u001b[39m, \u001b[38;5;124m'\u001b[39m\u001b[38;5;124mmin\u001b[39m\u001b[38;5;124m'\u001b[39m, \u001b[38;5;124m'\u001b[39m\u001b[38;5;124mmean\u001b[39m\u001b[38;5;124m'\u001b[39m])\n\u001b[0;32m      3\u001b[0m     \u001b[38;5;28;01mfor\u001b[39;00m owner, stats \u001b[38;5;129;01min\u001b[39;00m stats_per_owner\u001b[38;5;241m.\u001b[39miterrows():\n\u001b[0;32m      4\u001b[0m         max_price \u001b[38;5;241m=\u001b[39m stats[\u001b[38;5;124m'\u001b[39m\u001b[38;5;124mmax\u001b[39m\u001b[38;5;124m'\u001b[39m]\n",
      "File \u001b[1;32m~\\AppData\\Roaming\\Python\\Python311\\site-packages\\pandas\\core\\frame.py:8869\u001b[0m, in \u001b[0;36mDataFrame.groupby\u001b[1;34m(self, by, axis, level, as_index, sort, group_keys, observed, dropna)\u001b[0m\n\u001b[0;32m   8866\u001b[0m \u001b[38;5;28;01mif\u001b[39;00m level \u001b[38;5;129;01mis\u001b[39;00m \u001b[38;5;28;01mNone\u001b[39;00m \u001b[38;5;129;01mand\u001b[39;00m by \u001b[38;5;129;01mis\u001b[39;00m \u001b[38;5;28;01mNone\u001b[39;00m:\n\u001b[0;32m   8867\u001b[0m     \u001b[38;5;28;01mraise\u001b[39;00m \u001b[38;5;167;01mTypeError\u001b[39;00m(\u001b[38;5;124m\"\u001b[39m\u001b[38;5;124mYou have to supply one of \u001b[39m\u001b[38;5;124m'\u001b[39m\u001b[38;5;124mby\u001b[39m\u001b[38;5;124m'\u001b[39m\u001b[38;5;124m and \u001b[39m\u001b[38;5;124m'\u001b[39m\u001b[38;5;124mlevel\u001b[39m\u001b[38;5;124m'\u001b[39m\u001b[38;5;124m\"\u001b[39m)\n\u001b[1;32m-> 8869\u001b[0m \u001b[38;5;28;01mreturn\u001b[39;00m \u001b[43mDataFrameGroupBy\u001b[49m\u001b[43m(\u001b[49m\n\u001b[0;32m   8870\u001b[0m \u001b[43m    \u001b[49m\u001b[43mobj\u001b[49m\u001b[38;5;241;43m=\u001b[39;49m\u001b[38;5;28;43mself\u001b[39;49m\u001b[43m,\u001b[49m\n\u001b[0;32m   8871\u001b[0m \u001b[43m    \u001b[49m\u001b[43mkeys\u001b[49m\u001b[38;5;241;43m=\u001b[39;49m\u001b[43mby\u001b[49m\u001b[43m,\u001b[49m\n\u001b[0;32m   8872\u001b[0m \u001b[43m    \u001b[49m\u001b[43maxis\u001b[49m\u001b[38;5;241;43m=\u001b[39;49m\u001b[43maxis\u001b[49m\u001b[43m,\u001b[49m\n\u001b[0;32m   8873\u001b[0m \u001b[43m    \u001b[49m\u001b[43mlevel\u001b[49m\u001b[38;5;241;43m=\u001b[39;49m\u001b[43mlevel\u001b[49m\u001b[43m,\u001b[49m\n\u001b[0;32m   8874\u001b[0m \u001b[43m    \u001b[49m\u001b[43mas_index\u001b[49m\u001b[38;5;241;43m=\u001b[39;49m\u001b[43mas_index\u001b[49m\u001b[43m,\u001b[49m\n\u001b[0;32m   8875\u001b[0m \u001b[43m    \u001b[49m\u001b[43msort\u001b[49m\u001b[38;5;241;43m=\u001b[39;49m\u001b[43msort\u001b[49m\u001b[43m,\u001b[49m\n\u001b[0;32m   8876\u001b[0m \u001b[43m    \u001b[49m\u001b[43mgroup_keys\u001b[49m\u001b[38;5;241;43m=\u001b[39;49m\u001b[43mgroup_keys\u001b[49m\u001b[43m,\u001b[49m\n\u001b[0;32m   8877\u001b[0m \u001b[43m    \u001b[49m\u001b[43mobserved\u001b[49m\u001b[38;5;241;43m=\u001b[39;49m\u001b[43mobserved\u001b[49m\u001b[43m,\u001b[49m\n\u001b[0;32m   8878\u001b[0m \u001b[43m    \u001b[49m\u001b[43mdropna\u001b[49m\u001b[38;5;241;43m=\u001b[39;49m\u001b[43mdropna\u001b[49m\u001b[43m,\u001b[49m\n\u001b[0;32m   8879\u001b[0m \u001b[43m\u001b[49m\u001b[43m)\u001b[49m\n",
      "File \u001b[1;32m~\\AppData\\Roaming\\Python\\Python311\\site-packages\\pandas\\core\\groupby\\groupby.py:1278\u001b[0m, in \u001b[0;36mGroupBy.__init__\u001b[1;34m(self, obj, keys, axis, level, grouper, exclusions, selection, as_index, sort, group_keys, observed, dropna)\u001b[0m\n\u001b[0;32m   1275\u001b[0m \u001b[38;5;28mself\u001b[39m\u001b[38;5;241m.\u001b[39mdropna \u001b[38;5;241m=\u001b[39m dropna\n\u001b[0;32m   1277\u001b[0m \u001b[38;5;28;01mif\u001b[39;00m grouper \u001b[38;5;129;01mis\u001b[39;00m \u001b[38;5;28;01mNone\u001b[39;00m:\n\u001b[1;32m-> 1278\u001b[0m     grouper, exclusions, obj \u001b[38;5;241m=\u001b[39m \u001b[43mget_grouper\u001b[49m\u001b[43m(\u001b[49m\n\u001b[0;32m   1279\u001b[0m \u001b[43m        \u001b[49m\u001b[43mobj\u001b[49m\u001b[43m,\u001b[49m\n\u001b[0;32m   1280\u001b[0m \u001b[43m        \u001b[49m\u001b[43mkeys\u001b[49m\u001b[43m,\u001b[49m\n\u001b[0;32m   1281\u001b[0m \u001b[43m        \u001b[49m\u001b[43maxis\u001b[49m\u001b[38;5;241;43m=\u001b[39;49m\u001b[43maxis\u001b[49m\u001b[43m,\u001b[49m\n\u001b[0;32m   1282\u001b[0m \u001b[43m        \u001b[49m\u001b[43mlevel\u001b[49m\u001b[38;5;241;43m=\u001b[39;49m\u001b[43mlevel\u001b[49m\u001b[43m,\u001b[49m\n\u001b[0;32m   1283\u001b[0m \u001b[43m        \u001b[49m\u001b[43msort\u001b[49m\u001b[38;5;241;43m=\u001b[39;49m\u001b[43msort\u001b[49m\u001b[43m,\u001b[49m\n\u001b[0;32m   1284\u001b[0m \u001b[43m        \u001b[49m\u001b[43mobserved\u001b[49m\u001b[38;5;241;43m=\u001b[39;49m\u001b[38;5;28;43;01mFalse\u001b[39;49;00m\u001b[43m \u001b[49m\u001b[38;5;28;43;01mif\u001b[39;49;00m\u001b[43m \u001b[49m\u001b[43mobserved\u001b[49m\u001b[43m \u001b[49m\u001b[38;5;129;43;01mis\u001b[39;49;00m\u001b[43m \u001b[49m\u001b[43mlib\u001b[49m\u001b[38;5;241;43m.\u001b[39;49m\u001b[43mno_default\u001b[49m\u001b[43m \u001b[49m\u001b[38;5;28;43;01melse\u001b[39;49;00m\u001b[43m \u001b[49m\u001b[43mobserved\u001b[49m\u001b[43m,\u001b[49m\n\u001b[0;32m   1285\u001b[0m \u001b[43m        \u001b[49m\u001b[43mdropna\u001b[49m\u001b[38;5;241;43m=\u001b[39;49m\u001b[38;5;28;43mself\u001b[39;49m\u001b[38;5;241;43m.\u001b[39;49m\u001b[43mdropna\u001b[49m\u001b[43m,\u001b[49m\n\u001b[0;32m   1286\u001b[0m \u001b[43m    \u001b[49m\u001b[43m)\u001b[49m\n\u001b[0;32m   1288\u001b[0m \u001b[38;5;28;01mif\u001b[39;00m observed \u001b[38;5;129;01mis\u001b[39;00m lib\u001b[38;5;241m.\u001b[39mno_default:\n\u001b[0;32m   1289\u001b[0m     \u001b[38;5;28;01mif\u001b[39;00m \u001b[38;5;28many\u001b[39m(ping\u001b[38;5;241m.\u001b[39m_passed_categorical \u001b[38;5;28;01mfor\u001b[39;00m ping \u001b[38;5;129;01min\u001b[39;00m grouper\u001b[38;5;241m.\u001b[39mgroupings):\n",
      "File \u001b[1;32m~\\AppData\\Roaming\\Python\\Python311\\site-packages\\pandas\\core\\groupby\\grouper.py:1009\u001b[0m, in \u001b[0;36mget_grouper\u001b[1;34m(obj, key, axis, level, sort, observed, validate, dropna)\u001b[0m\n\u001b[0;32m   1007\u001b[0m         in_axis, level, gpr \u001b[38;5;241m=\u001b[39m \u001b[38;5;28;01mFalse\u001b[39;00m, gpr, \u001b[38;5;28;01mNone\u001b[39;00m\n\u001b[0;32m   1008\u001b[0m     \u001b[38;5;28;01melse\u001b[39;00m:\n\u001b[1;32m-> 1009\u001b[0m         \u001b[38;5;28;01mraise\u001b[39;00m \u001b[38;5;167;01mKeyError\u001b[39;00m(gpr)\n\u001b[0;32m   1010\u001b[0m \u001b[38;5;28;01melif\u001b[39;00m \u001b[38;5;28misinstance\u001b[39m(gpr, Grouper) \u001b[38;5;129;01mand\u001b[39;00m gpr\u001b[38;5;241m.\u001b[39mkey \u001b[38;5;129;01mis\u001b[39;00m \u001b[38;5;129;01mnot\u001b[39;00m \u001b[38;5;28;01mNone\u001b[39;00m:\n\u001b[0;32m   1011\u001b[0m     \u001b[38;5;66;03m# Add key to exclusions\u001b[39;00m\n\u001b[0;32m   1012\u001b[0m     exclusions\u001b[38;5;241m.\u001b[39madd(gpr\u001b[38;5;241m.\u001b[39mkey)\n",
      "\u001b[1;31mKeyError\u001b[0m: 'Owner'"
     ]
    }
   ],
   "source": [
    "def display_owner(owners, selling_prices):\n",
    "    stats_per_owner = dataset.groupby('Owner')['Selling_Price'].agg(['max', 'min', 'mean'])\n",
    "    for owner, stats in stats_per_owner.iterrows():\n",
    "        max_price = stats['max']\n",
    "        min_price = stats['min']\n",
    "        avg_price = stats['mean']\n",
    "        output += f\"The prices for {owner} Owner are the following, Max: {max_price}, Min: {min_price}, Avg: {avg_price}\\n\"\n",
    "    return output\n",
    "\n",
    "result = display_owner(owner, selling_price)\n",
    "print(result)\n"
   ]
  },
  {
   "cell_type": "markdown",
   "id": "98dc3da6-8e68-4c8f-84d5-b5d37619e837",
   "metadata": {},
   "source": [
    "#### Expected outputs:\n",
    "The prices for Third Owner are the following, Max: 50000, Min: 50000, Avg: 50000.0\n",
    "The prices for Second Owner are the following, Max: 160000, Min: 160000, Avg: 160000.0\n",
    "The prices for First Owner are the following, Max: 695000, Min: 695000, Avg: 695000.0\n",
    "The prices for Fourth & Above Owner are the following, Max: 450000, Min: 450000, Avg: 450000.0"
   ]
  },
  {
   "cell_type": "markdown",
   "id": "d5e7b884-8817-4276-b2a9-c6d0288522e2",
   "metadata": {},
   "source": [
    "#### Question 5 - Implement a function to find and print the model of the oldest car as well as its maker in the dataset. Consider the 'Year' list to determine the age and the \"Model\". - 10% marks."
   ]
  },
  {
   "cell_type": "code",
   "execution_count": 29,
   "id": "f8f904d8-ff65-4ca8-a822-b8a94be40cfd",
   "metadata": {},
   "outputs": [
    {
     "name": "stdout",
     "output_type": "stream",
     "text": [
      "The oldest car from the  model 'Willys' was produced by 'Mahindra'.\n"
     ]
    }
   ],
   "source": [
    "def oldest_car_details(makers, models, years):\n",
    "    oldest_car = years.index(min(years))\n",
    "    oldest_car_maker = Make[oldest_car]\n",
    "    oldest_car_model = Model[oldest_car]\n",
    "    return oldest_car_maker, oldest_car_model\n",
    "\n",
    "oldest_maker, oldest_model = oldest_car_details(Make,Model,year)\n",
    "print(f\"The oldest car from the  model '{oldest_model}' was produced by '{oldest_maker}'.\")"
   ]
  },
  {
   "cell_type": "markdown",
   "id": "09b8d596-b7ae-46e2-a464-b55d6c13d36b",
   "metadata": {},
   "source": [
    "#### Expected output:\n",
    "The oldest car from the model Willys was produced by Mahindra"
   ]
  },
  {
   "cell_type": "markdown",
   "id": "0da13f42-7d28-43de-923a-0b50c096ab17",
   "metadata": {},
   "source": [
    "#### Question 6 - Create a loop that categorizes cars into three age groups: 'New,' 'Used,' and 'Vintage.' The groups should be based on the manufacture year (e.g., 'New' for cars less than 5 years old, 'Used' for cars between 5 and 20 years old, and 'Vintage' for cars over 20 years old). Use the Loop to create a list containing these values and create another repetition structure to print the Make, model, year, price and km driven of Vintage cars. - 20% marks."
   ]
  },
  {
   "cell_type": "code",
   "execution_count": 49,
   "id": "d245a9e1-c5b5-4898-805f-98549de545eb",
   "metadata": {},
   "outputs": [
    {
     "name": "stdout",
     "output_type": "stream",
     "text": [
      "Information about Vintage cars:\n",
      "Make: Maruti, Model: 800, Year: 1997, Price: 50000, Km Driven: 120000\n",
      "Make: Maruti, Model: 800, Year: 1997, Price: 50000, Km Driven: 60000\n",
      "Make: Mahindra, Model: Jeep, Year: 1996, Price: 163000, Km Driven: 5000\n",
      "Make: Peugeot, Model: 309, Year: 1997, Price: 57000, Km Driven: 110000\n",
      "Make: Maruti, Model: 800, Year: 1997, Price: 50000, Km Driven: 110000\n",
      "Make: Mahindra, Model: Willys, Year: 1983, Price: 300000, Km Driven: 10000\n",
      "Make: Maruti, Model: 800, Year: 1996, Price: 40000, Km Driven: 32000\n"
     ]
    }
   ],
   "source": [
    "age_group = []\n",
    "for y in year:\n",
    "    car_age = 2020 - y\n",
    "    if car_age < 5:\n",
    "        age_group.append('New')\n",
    "    elif 5 <= car_age <= 20:\n",
    "        age_group.append('Used')\n",
    "    else:\n",
    "        age_group.append('Vintage')\n",
    "\n",
    "print(\"Information about Vintage cars:\")\n",
    "index=0\n",
    "while index < len(age_group):\n",
    "    if age_group[index] == 'Vintage':\n",
    "        print(f\"Make: {Make[index]}, Model: {Model[index]}, Year: {year[index]}, Price: {selling_price[index]}, Km Driven: {km_driven[index]}\")\n",
    "        \n",
    "    index += 1"
   ]
  },
  {
   "cell_type": "markdown",
   "id": "486c9e14-d81a-4314-8b97-430e36e193c8",
   "metadata": {},
   "source": [
    "#### Expected output of the first element of the loop:\n",
    "\n",
    "Make: Maruti, Model: 800, Year: 1997, Price: 50000, Km Driven: 120000"
   ]
  },
  {
   "cell_type": "markdown",
   "id": "a15e0a24-68a5-42ec-b54c-a8a637db77e4",
   "metadata": {},
   "source": [
    "#### Question 7 - Create a function that calculates the average km_driven for all cars built between the years 2010 and 2020 and print it. You should provide the user with the option to enter it's own range of years (between 2010 to 2020). Use the full dataset and Numpy to answer this question. - 20% marks."
   ]
  },
  {
   "cell_type": "code",
   "execution_count": 62,
   "id": "8f87e25f-6923-4e5b-ae3c-bb6dd3e968c9",
   "metadata": {},
   "outputs": [
    {
     "name": "stdin",
     "output_type": "stream",
     "text": [
      "Enter start year (between 2010 to 2020):  2010\n",
      "Enter end year (between 2010 to 2020):  2018\n"
     ]
    },
    {
     "name": "stdout",
     "output_type": "stream",
     "text": [
      "Average km driven between 2010 and 2018: 70015.15482233503\n"
     ]
    }
   ],
   "source": [
    "def average_km_range(year_start, year_end, years, km_driven):\n",
    "    km_in_range = []\n",
    "    for i in range(len(years)):\n",
    "        if (year_start <= years[i]) and (years[i] <= year_end):\n",
    "            km_in_range.append(km_driven[i])\n",
    "    if km_in_range:\n",
    "        average_km = sum(km_in_range) / len(km_in_range)\n",
    "        return average_km\n",
    "    else:\n",
    "        return \"No cars found in the specified year range.\"\n",
    "\n",
    "\n",
    "\n",
    "start_year = int(input(\"Enter start year (between 2010 to 2020): \"))\n",
    "end_year = int(input(\"Enter end year (between 2010 to 2020): \"))\n",
    "\n",
    "if (2010 <= start_year <= 2020) and (2010 <= end_year <= 2020) and (start_year <= end_year):\n",
    "    result = average_km_range(start_year, end_year, year, km_driven)\n",
    "    print(f\"Average mileage for {start_year} and {end_year}: {result}\")\n",
    "else:\n",
    "    print(\"Please enter a valid range of years between 2010 to 2020.\")"
   ]
  },
  {
   "cell_type": "markdown",
   "id": "5e28521c-59de-4262-9b50-c33d18c5ce06",
   "metadata": {},
   "source": [
    "#### Expected output:\n",
    "The Average mileage for the range was 65304.28 km."
   ]
  },
  {
   "cell_type": "markdown",
   "id": "040f76d9-9b73-4ba7-8c28-1d668d47156e",
   "metadata": {},
   "source": [
    "#### Question 8 - write a function that will accept an integer as input (validate the input using the Try-except structure). - 15% marks."
   ]
  },
  {
   "cell_type": "code",
   "execution_count": 66,
   "id": "1faefa16-9264-4af9-a72a-d7a9b20abd1d",
   "metadata": {},
   "outputs": [
    {
     "name": "stdin",
     "output_type": "stream",
     "text": [
      "Enter an integer:  4\n"
     ]
    },
    {
     "name": "stdout",
     "output_type": "stream",
     "text": [
      "   1      4444\n",
      "  22    333\n",
      " 333  22\n",
      "44441\n"
     ]
    }
   ],
   "source": [
    "def print_pattern(size):\n",
    "    try:\n",
    "        if size <= 0:\n",
    "            raise ValueError(\"Please enter a positive integer.\")\n",
    "\n",
    "        for i in range(1, size + 1):\n",
    "            print(' ' * (size - i), end='')\n",
    "            print(str(i) * i, end='')\n",
    "            print(' ' * ((size - i) * 2), end='')\n",
    "            print(str(size - i + 1) * (size - i + 1))\n",
    "\n",
    "    except ValueError as e:\n",
    "        print(f\"Invalid input: {e}\")\n",
    "\n",
    "try:\n",
    "    user_input = int(input(\"Enter an integer: \"))\n",
    "    print_pattern(user_input)\n",
    "except ValueError:\n",
    "    print(\"Invalid input. Please enter an integer.\")\n"
   ]
  },
  {
   "cell_type": "markdown",
   "id": "d5b230e1-0d60-4c1d-8f4c-2385ca94f2f5",
   "metadata": {},
   "source": [
    "#### Expected output:\n",
    "\n",
    "<img src=\"group1_8.jpeg\" width=\"80\">"
   ]
  }
 ],
 "metadata": {
  "kernelspec": {
   "display_name": "Python 3 (ipykernel)",
   "language": "python",
   "name": "python3"
  },
  "language_info": {
   "codemirror_mode": {
    "name": "ipython",
    "version": 3
   },
   "file_extension": ".py",
   "mimetype": "text/x-python",
   "name": "python",
   "nbconvert_exporter": "python",
   "pygments_lexer": "ipython3",
   "version": "3.11.5"
  }
 },
 "nbformat": 4,
 "nbformat_minor": 5
}
